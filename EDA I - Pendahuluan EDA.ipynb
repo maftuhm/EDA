{
 "cells": [
  {
   "cell_type": "markdown",
   "metadata": {
    "slideshow": {
     "slide_type": "slide"
    }
   },
   "source": [
    "<center><img alt=\"\" src=\"images/0_Cover.jpg\"/></center> \n",
    "\n",
    "## <center><font color=\"blue\">I. Pendahuluan Exploratory Data Analysis</font></center>\n",
    "<b><center>(C) Taufik Sutanto - 2019</center>\n",
    "<center>tau-data Indonesia ~ https://tau-data.id</center>"
   ]
  },
  {
   "cell_type": "markdown",
   "metadata": {
    "slideshow": {
     "slide_type": "slide"
    }
   },
   "source": [
    "# <font color=\"blue\">Outline Module II</font>\n",
    "\n",
    "* Introduction to EDA\n",
    "* Silabus\n",
    "* Evaluation (Quiz + Case studies/Capstone Project)\n",
    "* References"
   ]
  },
  {
   "cell_type": "markdown",
   "metadata": {},
   "source": [
    "# Pendahuluan:\n",
    "\n",
    "Exploratory Data Analysis (EDA) bagaikan jiwa bagi semua proses analisa data. Kemampuan untuk melakukan EDA dengan baik adalah syarat dasar utama bagi seluruh profesi yang terkait dengan pengolahan data, baik itu business intelligence, data analyst, data scientist, dan sebagainya. EDA juga menjadi tahapan awal dari kebanyakan proses analisa data dan menjadi suatu tahapan yang amat menentukan seberapa baik analisa data selanjutnya akan dihasilkan.\n",
    "\n",
    "Komponen EDA meliputi preprocessing, perhitungan berbagai nilai statistics dasar (e.g. ukuran pusat dan penyebaran data), visualisasi, penyusunan hipotesis (dugaan awal), pemeriksaan asumsi, hingga story-telling dan reporting. Di dalamnya juga termasuk proses penanganan missing values, outlier, reduksi dimensi, pengelompokkan, transformasi dan distribusi data."
   ]
  },
  {
   "cell_type": "markdown",
   "metadata": {},
   "source": [
    "# Exploratory Data Analysis (EDA)\n",
    "\n",
    "* Diperkenalkan oleh John Tukey 1961: \" _Procedures for analyzing data, techniques for interpreting the results of such procedures, ways of planning the gathering of data to make its analysis easier, more precise or more accurate, and all the machinery and results of (mathematical) statistics which apply to analyzing data._\"\n",
    "* Tukey promoted the use of five number summary of numerical data—the two extremes (maximum and minimum), the median, and the quartiles.\n",
    "* EDA refers to the critical process of performing **initial investigations on data** so as to discover patterns,to spot **anomalies**,to test hypothesis and to **check assumptions** with the help of **summary statistics and graphical representations**.\n",
    "* Tools: Python, R, S-Plus, etc\n",
    "\n",
    "<p><img alt=\"\" src=\"images/edamethods.png\" /></p>"
   ]
  },
  {
   "cell_type": "markdown",
   "metadata": {},
   "source": [
    "# Data Visualizations\n",
    "<p><img alt=\"\" src=\"images/Purpose_Visualize_Data.jpg\" /></p>"
   ]
  },
  {
   "cell_type": "markdown",
   "metadata": {},
   "source": [
    "# Tujuan EDA\n",
    "\n",
    "* **Suggest hypotheses** about the causes of observed phenomena\n",
    "* **Assess assumptions** on which statistical inference will be based\n",
    "* Support the **selection of appropriate statistical techniques**\n",
    "* Provide a basis for further data collection"
   ]
  },
  {
   "cell_type": "markdown",
   "metadata": {},
   "source": [
    "# Tujuan:\n",
    "\n",
    "Setelah mengikuti kuliah ini, tau-scientists (TS) diharapkan mampu untuk:\n",
    "\n",
    "* Melakukan preprocessing yang tepat sesuai dengan permasalahan dan pemodelan yang akan dilakukan\n",
    "* Menyusun berbagai pertanyaan yang tepat dari ringkasan data dan visualisasinya\n",
    "* Melakukan proses EDA dengan efisien dan kreatif"
   ]
  },
  {
   "cell_type": "markdown",
   "metadata": {},
   "source": [
    "# Prasayarat:\n",
    "\n",
    "Matematika Dasar, Statistika Dasar, pendahuluan pemrograman."
   ]
  },
  {
   "cell_type": "markdown",
   "metadata": {},
   "source": [
    "# Silabus:\n",
    "\n",
    "1. Pendahuluan Exploratory Data Analysis\n",
    "2. Pendahuluan pemrograman\n",
    "3. Exploring Categorical Data\n",
    "4. Exploring Numerical Data\n",
    "5. Basic Statistics, distributions, and transformation\n",
    "6. Key Metrics, Indicators, and Decision Triggers\n",
    "7. Missing Value Analysis\n",
    "8. Outlier Analysis\n",
    "9. Interactive & Creative Visualization\n",
    "10. Exploring Visualization Tools\n",
    "11. Efficient Data Exploration\n",
    "12. Clustering, Dimensional Reduction techniques, and high-dimensional Visualization\n",
    "13. Dashboard, Story Telling, and EDA Reporting\n",
    "14. Capstone Project (Case Study)"
   ]
  },
  {
   "cell_type": "markdown",
   "metadata": {},
   "source": [
    "# Evaluasi:\n",
    "\n",
    "* Secara online pada setiap lesson akan memuat online quiz. \n",
    "* Caset Studies/(Capstone) Projects"
   ]
  },
  {
   "cell_type": "markdown",
   "metadata": {},
   "source": [
    "# Software/Tools:\n",
    "\n",
    "Python (Anaconda/WinPython/Google Colaboratory).\n",
    "Modules: Numpy, Matplotlib, Seaborn, Pandas, Scikit-learn etc.\n",
    "\n",
    "# Diskusi/Pertanyaan:\n",
    "https://tau-data.id/forums/forum/exploratory-data-analysis/\n",
    "\n",
    "# Materi Kuliah:\n",
    "https://tau-data.id/courses/exploratory-data-analysis-eda/"
   ]
  },
  {
   "cell_type": "markdown",
   "metadata": {},
   "source": [
    "# Referensi:\n",
    "\n",
    "* Cox, V. (2017). Exploratory data analysis. In Translating Statistics to Make Decisions (pp. 47-74). Apress, Berkeley, CA.\n",
    "* DuToit, S. H., Steyn, A. G. W., & Stumpf, R. H. (2012). Graphical exploratory data analysis. Springer Science & Business Media.\n",
    "* Bock, H. H., & Diday, E. (Eds.). (2012). Analysis of symbolic data: exploratory methods for extracting statistical information from complex data. Springer Science & Business Media.\n",
    "* Cleveland, W.S., 1993. Visualizing Data. Hobart Press.\n",
    "* Cleveland, W.S., 1994. The elements of graphing data. Hobart Press.\n",
    "* Few, S., 2009. Now you see it. Analytics Press.\n",
    "* Harris, R.L., 1999. Information Graphics. Oxford University Press.\n",
    "* Healy, K., 2018. Data Visualization: A Practical Introduction. Princeton University Press.\n",
    "* Knaflic, C.N., 2015. Storytelling with Data. Wiley\n",
    "* Robbins, N.B., 2005. Creating More Effective Graphs. Wiley.\n",
    "* Tufte, E.R., 2001. The Visual Display of Quantitative Information, 2nd ed. Cheshire, CT: Graphics Press.\n",
    "* Tufte, E.R., 1997. Visual Explanations. Cheshire, CT: Graphics Press.\n",
    "* Tufte, E.R., 2006. Beautiful evidence. Cheshire, CT: Graphics Press.\n",
    "* Wainer, H., 2009. Picturing the Uncertain World. Princeton University Press.\n",
    "* Yau, N., 2013. Data Points – Visualization that means something. Wiley.\n",
    "* Huff, D. (1993). How to lie with statistics. WW Norton & Company.\n",
    "* Reinhart, A. (2015). Statistics done wrong: The woefully complete guide. No starch press."
   ]
  },
  {
   "cell_type": "markdown",
   "metadata": {},
   "source": [
    "# <center><font color=\"blue\"> End of Module I.\n",
    "\n",
    "<hr />\n"
   ]
  }
 ],
 "metadata": {
  "celltoolbar": "Slideshow",
  "kernelspec": {
   "display_name": "Python 3",
   "language": "python",
   "name": "python3"
  },
  "language_info": {
   "codemirror_mode": {
    "name": "ipython",
    "version": 3
   },
   "file_extension": ".py",
   "mimetype": "text/x-python",
   "name": "python",
   "nbconvert_exporter": "python",
   "pygments_lexer": "ipython3",
   "version": "3.6.8"
  }
 },
 "nbformat": 4,
 "nbformat_minor": 2
}
