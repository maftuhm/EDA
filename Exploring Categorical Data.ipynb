{
 "cells": [
  {
   "cell_type": "markdown",
   "metadata": {
    "slideshow": {
     "slide_type": "slide"
    }
   },
   "source": [
    "<center><img alt=\"\" src=\"images/0_Cover.jpg\"/></center> \n",
    "\n",
    "## <center><font color=\"blue\">Exploring Categorical Data</font></center>\n",
    "\n",
    "<h2 id=\"(C)-Taufik-Sutanto---2019\" style=\"text-align: center;\">(C) Taufik Sutanto - 2019</h2>\n",
    "<h2 id=\"tau-data-Indonesia-~-https://tau-data.id\" style=\"text-align: center;\">tau-data Indonesia ~ <a href=\"https://tau-data.id\" target=\"_blank\"><span style=\"color: #0009ff;\">https://tau-data.id</span></a></h2>"
   ]
  },
  {
   "cell_type": "markdown",
   "metadata": {},
   "source": [
    "# Notes and Disclaimer\n",
    "\n",
    "* This notebook is part of the free (open knowledge) eLearning course at: https://tau-data.id/courses/\n",
    "* Some images are taken from several resources, we respect those images ownerships and put a reference/citation from where it is originated. Nevertheless, sometimes we are having trouble to find the origin of the image(s). If you are the owner of the image and would like the image taken-out (or want the citation to be revised) from this open knowledge course resources please contact us here with the details: https://tau-data.id/contact/  \n",
    "* Unless stated otherwise, in general tau-data permit its resources to be copied and-or modified for non-commercial purposes. With condition proper acknowledgement/citation is given."
   ]
  },
  {
   "cell_type": "markdown",
   "metadata": {},
   "source": [
    "# Outline\n",
    "\n",
    "0. Last lecture discussion\n",
    "1. Importing Categorical Data: Object VS Categoric\n",
    "2. Categorical Data BarChart (countPlot): Standard, SeaBorn, VS Customized\n",
    "3. PieChart and Customization\n",
    "4. Stacked/Segmented barplots\n",
    "5. Mosaic Plot\n",
    "7. Categorical VS Numerical Visualizations\n",
    "8. Two-Way Contingency Table\n",
    "9. Categorical Data Transformation"
   ]
  },
  {
   "cell_type": "markdown",
   "metadata": {},
   "source": [
    "<h1 id=\"Last-lecture-discussion:\">Last lecture discussion:</h1>\n",
    "<h2 id=\"1.-Adakah-outlier-untuk-Data-Kategorik?\">1. Adakah outlier untuk Data Kategorik?</h2>\n",
    "<ul>\n",
    "<li>Ya, ... For categorical data, the outliers are intuitively those points with highly irregular or infrequent values.</li>\n",
    "<li>Namun memang tidak umum dan kasusnya cukup jarang terjadi.</li>\n",
    "<li>Treatment terhadap outlier data categoric menjadi berbeda bergantung apakah ia variabel target/indikator.</li>\n",
    "<li>ada beberapa metode diantaranya density based, entropy based, similarity based, etc. [1] dan&nbsp;<span style=\"color: #333333; font-family: 'georgia' , serif; font-size: 17px; letter-spacing: 0.102px; background-color: #fcfcfc;\">[</span><span class=\"CitationRef\" style=\"display: inline-block; font-family: 'source sans pro' , 'helvetica' , 'arial' , sans-serif; color: #333333; font-size: 17px; letter-spacing: 0.102px; background-color: #fcfcfc;\"><a style=\"color: #4500a7; padding: 0px 0.1em;\" title=\"View reference\" href=\"https://link.springer.com/article/10.1007/s13042-013-0202-4#CR11\" target=\"_blank\" rel=\"noopener\">11</a></span><span style=\"color: #333333; font-family: 'georgia' , serif; font-size: 17px; letter-spacing: 0.102px; background-color: #fcfcfc;\">,&nbsp;</span><span class=\"CitationRef\" style=\"display: inline-block; font-family: 'source sans pro' , 'helvetica' , 'arial' , sans-serif; color: #333333; font-size: 17px; letter-spacing: 0.102px; background-color: #fcfcfc;\"><a style=\"color: #4500a7; padding: 0px 0.1em;\" title=\"View reference\" href=\"https://link.springer.com/article/10.1007/s13042-013-0202-4#CR12\" target=\"_blank\" rel=\"noopener\">12</a></span><span style=\"color: #333333; font-family: 'georgia' , serif; font-size: 17px; letter-spacing: 0.102px; background-color: #fcfcfc;\">,&nbsp;</span><span class=\"CitationRef\" style=\"display: inline-block; font-family: 'source sans pro' , 'helvetica' , 'arial' , sans-serif; color: #333333; font-size: 17px; letter-spacing: 0.102px; background-color: #fcfcfc;\"><a style=\"color: #4500a7; padding: 0px 0.1em;\" title=\"View reference\" href=\"https://link.springer.com/article/10.1007/s13042-013-0202-4#CR13\" target=\"_blank\" rel=\"noopener\">13</a></span><span style=\"color: #333333; font-family: 'georgia' , serif; font-size: 17px; letter-spacing: 0.102px; background-color: #fcfcfc;\">,&nbsp;</span><span class=\"CitationRef\" style=\"display: inline-block; font-family: 'source sans pro' , 'helvetica' , 'arial' , sans-serif; color: #333333; font-size: 17px; letter-spacing: 0.102px; background-color: #fcfcfc;\"><a style=\"color: #4500a7; outline-width: 0px; padding: 0px 0.1em;\" title=\"View reference\" href=\"https://link.springer.com/article/10.1007/s13042-013-0202-4#CR14\" target=\"_blank\" rel=\"noopener\">14</a></span><span style=\"color: #333333; font-family: 'georgia' , serif; font-size: 17px; letter-spacing: 0.102px; background-color: #fcfcfc;\">,&nbsp;</span><span class=\"CitationRef\" style=\"display: inline-block; font-family: 'source sans pro' , 'helvetica' , 'arial' , sans-serif; color: #333333; font-size: 17px; letter-spacing: 0.102px; background-color: #fcfcfc;\"><a style=\"color: #4500a7; padding: 0px 0.1em;\" title=\"View reference\" href=\"https://link.springer.com/article/10.1007/s13042-013-0202-4#CR15\" target=\"_blank\" rel=\"noopener\">15</a></span><span style=\"color: #333333; font-family: 'georgia' , serif; font-size: 17px; letter-spacing: 0.102px; background-color: #fcfcfc;\">,&nbsp;</span><span class=\"CitationRef\" style=\"display: inline-block; font-family: 'source sans pro' , 'helvetica' , 'arial' , sans-serif; color: #333333; font-size: 17px; letter-spacing: 0.102px; background-color: #fcfcfc;\"><a style=\"color: #4500a7; padding: 0px 0.1em;\" title=\"View reference\" href=\"https://link.springer.com/article/10.1007/s13042-013-0202-4#CR16\" target=\"_blank\" rel=\"noopener\">16</a></span><span style=\"color: #333333; font-family: 'georgia' , serif; font-size: 17px; letter-spacing: 0.102px; background-color: #fcfcfc;\">,&nbsp;</span><span class=\"CitationRef\" style=\"display: inline-block; font-family: 'source sans pro' , 'helvetica' , 'arial' , sans-serif; color: #333333; font-size: 17px; letter-spacing: 0.102px; background-color: #fcfcfc;\"><a style=\"color: #4500a7; padding: 0px 0.1em;\" title=\"View reference\" href=\"https://link.springer.com/article/10.1007/s13042-013-0202-4#CR17\" target=\"_blank\" rel=\"noopener\">17</a></span><span style=\"color: #333333; font-family: 'georgia' , serif; font-size: 17px; letter-spacing: 0.102px; background-color: #fcfcfc;\">,&nbsp;</span><span class=\"CitationRef\" style=\"display: inline-block; font-family: 'source sans pro' , 'helvetica' , 'arial' , sans-serif; color: #333333; font-size: 17px; letter-spacing: 0.102px; background-color: #fcfcfc;\"><a style=\"color: #4500a7; padding: 0px 0.1em;\" title=\"View reference\" href=\"https://link.springer.com/article/10.1007/s13042-013-0202-4#CR18\" target=\"_blank\" rel=\"noopener\">18</a></span><span style=\"color: #333333; font-family: 'georgia' , serif; font-size: 17px; letter-spacing: 0.102px; background-color: #fcfcfc;\">].</span>&nbsp;di [1].</li>\n",
    "<li>Module Python untuk mendeteksi outlier data kategorik:&nbsp;<a href=\"https://pypi.org/project/categoricaloutlier/\">https://pypi.org/project/categoricaloutlier/</a></li>\n",
    "</ul>\n",
    "<p>[1]. Zhao, X., Liang, J., &amp; Cao, F. (2014). A simple and effective outlier detection algorithm for categorical data. International Journal of Machine Learning and Cybernetics, 5(3), 469-477 :&nbsp;<a href=\"https://link.springer.com/article/10.1007/s13042-013-0202-4\" target=\"_blank\" rel=\"noopener\">https://link.springer.com/article/10.1007/s13042-013-0202-4&nbsp;</a></p>"
   ]
  },
  {
   "cell_type": "markdown",
   "metadata": {},
   "source": [
    "# Last Lecture Discussion:\n",
    "\n",
    "## 2. Cara menentukan nilai kategori (baru)?\n",
    "\n",
    "Explained nicely here: https://www.displayr.com/feature-engineering-for-categorical-variables/"
   ]
  },
  {
   "cell_type": "markdown",
   "metadata": {},
   "source": [
    "# Objects VS Categorical in DataFrame"
   ]
  },
  {
   "cell_type": "code",
   "execution_count": 63,
   "metadata": {
    "ExecuteTime": {
     "end_time": "2019-10-03T21:22:10.347471Z",
     "start_time": "2019-10-03T21:22:10.334506Z"
    }
   },
   "outputs": [],
   "source": [
    "# Importing Some Python Modules\n",
    "import scipy, itertools, pandas as pd, matplotlib.pyplot as plt, seaborn as sns, numpy as np\n",
    "import warnings; warnings.simplefilter('ignore')\n",
    "from statsmodels.graphics.mosaicplot import mosaic\n",
    "from scipy import stats\n",
    "from sklearn.preprocessing import StandardScaler, MinMaxScaler\n",
    "\n",
    "%matplotlib inline\n",
    "plt.style.use('bmh'); sns.set()"
   ]
  },
  {
   "cell_type": "code",
   "execution_count": 12,
   "metadata": {
    "ExecuteTime": {
     "end_time": "2019-10-03T20:28:02.866848Z",
     "start_time": "2019-10-03T20:28:02.843887Z"
    }
   },
   "outputs": [
    {
     "name": "stdout",
     "output_type": "stream",
     "text": [
      "<class 'pandas.core.frame.DataFrame'>\n",
      "RangeIndex: 244 entries, 0 to 243\n",
      "Data columns (total 7 columns):\n",
      "total_bill    244 non-null float64\n",
      "tip           244 non-null float64\n",
      "sex           244 non-null category\n",
      "smoker        244 non-null category\n",
      "day           244 non-null category\n",
      "time          244 non-null category\n",
      "size          244 non-null int64\n",
      "dtypes: category(4), float64(2), int64(1)\n",
      "memory usage: 7.3 KB\n",
      "None\n"
     ]
    },
    {
     "data": {
      "text/html": [
       "<div>\n",
       "<style scoped>\n",
       "    .dataframe tbody tr th:only-of-type {\n",
       "        vertical-align: middle;\n",
       "    }\n",
       "\n",
       "    .dataframe tbody tr th {\n",
       "        vertical-align: top;\n",
       "    }\n",
       "\n",
       "    .dataframe thead th {\n",
       "        text-align: right;\n",
       "    }\n",
       "</style>\n",
       "<table border=\"1\" class=\"dataframe\">\n",
       "  <thead>\n",
       "    <tr style=\"text-align: right;\">\n",
       "      <th></th>\n",
       "      <th>total_bill</th>\n",
       "      <th>tip</th>\n",
       "      <th>sex</th>\n",
       "      <th>smoker</th>\n",
       "      <th>day</th>\n",
       "      <th>time</th>\n",
       "      <th>size</th>\n",
       "    </tr>\n",
       "  </thead>\n",
       "  <tbody>\n",
       "    <tr>\n",
       "      <td>0</td>\n",
       "      <td>16.99</td>\n",
       "      <td>1.01</td>\n",
       "      <td>Female</td>\n",
       "      <td>No</td>\n",
       "      <td>Sun</td>\n",
       "      <td>Dinner</td>\n",
       "      <td>2</td>\n",
       "    </tr>\n",
       "    <tr>\n",
       "      <td>1</td>\n",
       "      <td>10.34</td>\n",
       "      <td>1.66</td>\n",
       "      <td>Male</td>\n",
       "      <td>No</td>\n",
       "      <td>Sun</td>\n",
       "      <td>Dinner</td>\n",
       "      <td>3</td>\n",
       "    </tr>\n",
       "    <tr>\n",
       "      <td>2</td>\n",
       "      <td>21.01</td>\n",
       "      <td>3.50</td>\n",
       "      <td>Male</td>\n",
       "      <td>No</td>\n",
       "      <td>Sun</td>\n",
       "      <td>Dinner</td>\n",
       "      <td>3</td>\n",
       "    </tr>\n",
       "    <tr>\n",
       "      <td>3</td>\n",
       "      <td>23.68</td>\n",
       "      <td>3.31</td>\n",
       "      <td>Male</td>\n",
       "      <td>No</td>\n",
       "      <td>Sun</td>\n",
       "      <td>Dinner</td>\n",
       "      <td>2</td>\n",
       "    </tr>\n",
       "    <tr>\n",
       "      <td>4</td>\n",
       "      <td>24.59</td>\n",
       "      <td>3.61</td>\n",
       "      <td>Female</td>\n",
       "      <td>No</td>\n",
       "      <td>Sun</td>\n",
       "      <td>Dinner</td>\n",
       "      <td>4</td>\n",
       "    </tr>\n",
       "  </tbody>\n",
       "</table>\n",
       "</div>"
      ],
      "text/plain": [
       "   total_bill   tip     sex smoker  day    time  size\n",
       "0       16.99  1.01  Female     No  Sun  Dinner     2\n",
       "1       10.34  1.66    Male     No  Sun  Dinner     3\n",
       "2       21.01  3.50    Male     No  Sun  Dinner     3\n",
       "3       23.68  3.31    Male     No  Sun  Dinner     2\n",
       "4       24.59  3.61  Female     No  Sun  Dinner     4"
      ]
     },
     "execution_count": 12,
     "metadata": {},
     "output_type": "execute_result"
    }
   ],
   "source": [
    "tips=sns.load_dataset('tips')\n",
    "print(tips.info())\n",
    "tips.head()"
   ]
  },
  {
   "cell_type": "code",
   "execution_count": 13,
   "metadata": {
    "ExecuteTime": {
     "end_time": "2019-10-03T20:28:24.913530Z",
     "start_time": "2019-10-03T20:28:24.893583Z"
    }
   },
   "outputs": [
    {
     "name": "stdout",
     "output_type": "stream",
     "text": [
      "sex :  {'Female', 'Male'}\n",
      "smoker :  {'No', 'Yes'}\n",
      "day :  {'Fri', 'Sun', 'Sat', 'Thur'}\n",
      "time :  {'Lunch', 'Dinner'}\n"
     ]
    }
   ],
   "source": [
    "objs = tips.select_dtypes(include = ['category'])\n",
    "for col in objs.columns:\n",
    "    pjg = len(set(tips[col].unique()))\n",
    "    if pjg<12:\n",
    "        print(col,': ', set(tips[col].unique()))\n",
    "    else:\n",
    "        print(col,': ', len(set(tips[col].unique())))"
   ]
  },
  {
   "cell_type": "code",
   "execution_count": 8,
   "metadata": {
    "ExecuteTime": {
     "end_time": "2019-10-03T20:27:00.694189Z",
     "start_time": "2019-10-03T20:27:00.679213Z"
    }
   },
   "outputs": [
    {
     "name": "stdout",
     "output_type": "stream",
     "text": [
      "<class 'pandas.core.frame.DataFrame'>\n",
      "RangeIndex: 848 entries, 0 to 847\n",
      "Data columns (total 5 columns):\n",
      "align          848 non-null object\n",
      "choice         848 non-null object\n",
      "time           848 non-null int64\n",
      "coherence      848 non-null float64\n",
      "firing_rate    848 non-null float64\n",
      "dtypes: float64(2), int64(1), object(2)\n",
      "memory usage: 33.2+ KB\n",
      "None\n"
     ]
    },
    {
     "data": {
      "text/html": [
       "<div>\n",
       "<style scoped>\n",
       "    .dataframe tbody tr th:only-of-type {\n",
       "        vertical-align: middle;\n",
       "    }\n",
       "\n",
       "    .dataframe tbody tr th {\n",
       "        vertical-align: top;\n",
       "    }\n",
       "\n",
       "    .dataframe thead th {\n",
       "        text-align: right;\n",
       "    }\n",
       "</style>\n",
       "<table border=\"1\" class=\"dataframe\">\n",
       "  <thead>\n",
       "    <tr style=\"text-align: right;\">\n",
       "      <th></th>\n",
       "      <th>align</th>\n",
       "      <th>choice</th>\n",
       "      <th>time</th>\n",
       "      <th>coherence</th>\n",
       "      <th>firing_rate</th>\n",
       "    </tr>\n",
       "  </thead>\n",
       "  <tbody>\n",
       "    <tr>\n",
       "      <td>0</td>\n",
       "      <td>dots</td>\n",
       "      <td>T1</td>\n",
       "      <td>-80</td>\n",
       "      <td>0.0</td>\n",
       "      <td>33.189967</td>\n",
       "    </tr>\n",
       "    <tr>\n",
       "      <td>1</td>\n",
       "      <td>dots</td>\n",
       "      <td>T1</td>\n",
       "      <td>-80</td>\n",
       "      <td>3.2</td>\n",
       "      <td>31.691726</td>\n",
       "    </tr>\n",
       "    <tr>\n",
       "      <td>2</td>\n",
       "      <td>dots</td>\n",
       "      <td>T1</td>\n",
       "      <td>-80</td>\n",
       "      <td>6.4</td>\n",
       "      <td>34.279840</td>\n",
       "    </tr>\n",
       "    <tr>\n",
       "      <td>3</td>\n",
       "      <td>dots</td>\n",
       "      <td>T1</td>\n",
       "      <td>-80</td>\n",
       "      <td>12.8</td>\n",
       "      <td>32.631874</td>\n",
       "    </tr>\n",
       "    <tr>\n",
       "      <td>4</td>\n",
       "      <td>dots</td>\n",
       "      <td>T1</td>\n",
       "      <td>-80</td>\n",
       "      <td>25.6</td>\n",
       "      <td>35.060487</td>\n",
       "    </tr>\n",
       "  </tbody>\n",
       "</table>\n",
       "</div>"
      ],
      "text/plain": [
       "  align choice  time  coherence  firing_rate\n",
       "0  dots     T1   -80        0.0    33.189967\n",
       "1  dots     T1   -80        3.2    31.691726\n",
       "2  dots     T1   -80        6.4    34.279840\n",
       "3  dots     T1   -80       12.8    32.631874\n",
       "4  dots     T1   -80       25.6    35.060487"
      ]
     },
     "execution_count": 8,
     "metadata": {},
     "output_type": "execute_result"
    }
   ],
   "source": [
    "dots=sns.load_dataset('dots')\n",
    "print(dots.info())\n",
    "dots.head()"
   ]
  },
  {
   "cell_type": "code",
   "execution_count": 10,
   "metadata": {
    "ExecuteTime": {
     "end_time": "2019-10-03T20:27:49.062260Z",
     "start_time": "2019-10-03T20:27:49.054271Z"
    }
   },
   "outputs": [
    {
     "name": "stdout",
     "output_type": "stream",
     "text": [
      "align :  {'sacc', 'dots'}\n",
      "choice :  {'T1', 'T2'}\n"
     ]
    }
   ],
   "source": [
    "objs = dots.select_dtypes(include = ['object'])\n",
    "for col in objs.columns:\n",
    "    pjg = len(set(dots[col].unique()))\n",
    "    if pjg<12:\n",
    "        print(col,': ', set(dots[col].unique()))\n",
    "    else:\n",
    "        print(col,': ', len(set(dots[col].unique())))"
   ]
  },
  {
   "cell_type": "markdown",
   "metadata": {},
   "source": [
    "## So what is the different?\n",
    "\n",
    "- Category finite dan generally faster\n",
    "- Great way to inform user or other function on how to treat the variable\n",
    "\n",
    "<img alt=\"\" src=\"images/Pandas_DataTypes.png\"/>\n",
    "\n",
    "\n",
    "[image source: https://pbpython.com/pandas_dtypes_cat.html]"
   ]
  },
  {
   "cell_type": "markdown",
   "metadata": {},
   "source": [
    "# Categorical Data Visualizations"
   ]
  },
  {
   "cell_type": "code",
   "execution_count": 15,
   "metadata": {
    "ExecuteTime": {
     "end_time": "2019-10-03T20:38:12.788959Z",
     "start_time": "2019-10-03T20:38:12.649358Z"
    }
   },
   "outputs": [
    {
     "name": "stdout",
     "output_type": "stream",
     "text": [
      "Index(['sex', 'smoker', 'day', 'time'], dtype='object')\n"
     ]
    },
    {
     "data": {
      "image/png": "[encoded data removed]",
      "text/plain": [
       "<Figure size 576x432 with 1 Axes>"
      ]
     },
     "metadata": {
      "needs_background": "light"
     },
     "output_type": "display_data"
    }
   ],
   "source": [
    "# 1. BarChart\n",
    "print(tips.select_dtypes(include = ['category']).columns)\n",
    "plt.figure(figsize=(8,6)) # https://matplotlib.org/api/_as_gen/matplotlib.pyplot.figure.html#matplotlib.pyplot.figure\n",
    "p = sns.countplot(x=\"sex\", data=tips)"
   ]
  },
  {
   "cell_type": "markdown",
   "metadata": {},
   "source": [
    "## Add labels?"
   ]
  },
  {
   "cell_type": "code",
   "execution_count": 17,
   "metadata": {
    "ExecuteTime": {
     "end_time": "2019-10-03T20:40:09.846972Z",
     "start_time": "2019-10-03T20:40:09.734530Z"
    }
   },
   "outputs": [
    {
     "data": {
      "image/png": "[encoded data removed]",
      "text/plain": [
       "<Figure size 432x288 with 1 Axes>"
      ]
     },
     "metadata": {
      "needs_background": "light"
     },
     "output_type": "display_data"
    }
   ],
   "source": [
    "col = 'sex'\n",
    "ax = sns.countplot(x=col, data=tips)\n",
    "for p, label in zip(ax.patches, tips[col].value_counts().values):\n",
    "    ax.annotate(label, (p.get_x()+0.375, p.get_height()+0.15))\n",
    "    \n",
    "# Perhatikan variabel AX"
   ]
  },
  {
   "cell_type": "markdown",
   "metadata": {},
   "source": [
    "# When we care about percentage and not the real count: PieChart"
   ]
  },
  {
   "cell_type": "code",
   "execution_count": 18,
   "metadata": {
    "ExecuteTime": {
     "end_time": "2019-10-03T20:40:58.031301Z",
     "start_time": "2019-10-03T20:40:57.978416Z"
    }
   },
   "outputs": [
    {
     "data": {
      "image/png": "[encoded data removed]",
      "text/plain": [
       "<Figure size 432x288 with 1 Axes>"
      ]
     },
     "metadata": {},
     "output_type": "display_data"
    }
   ],
   "source": [
    "p = tips.sex.value_counts().plot(kind='pie')"
   ]
  },
  {
   "cell_type": "markdown",
   "metadata": {},
   "source": [
    "# Show percentage?"
   ]
  },
  {
   "cell_type": "code",
   "execution_count": 31,
   "metadata": {
    "ExecuteTime": {
     "end_time": "2019-10-03T20:47:53.924426Z",
     "start_time": "2019-10-03T20:47:53.919177Z"
    }
   },
   "outputs": [
    {
     "name": "stdout",
     "output_type": "stream",
     "text": [
      "Male      157\n",
      "Female     87\n",
      "Name: sex, dtype: int64\n",
      "<class 'pandas.core.series.Series'>\n"
     ]
    }
   ],
   "source": [
    "c = tips['sex'].value_counts()\n",
    "print(c)\n",
    "print(type(c))"
   ]
  },
  {
   "cell_type": "code",
   "execution_count": 32,
   "metadata": {
    "ExecuteTime": {
     "end_time": "2019-10-03T20:47:55.839910Z",
     "start_time": "2019-10-03T20:47:55.834920Z"
    }
   },
   "outputs": [
    {
     "data": {
      "text/plain": [
       "dict"
      ]
     },
     "execution_count": 32,
     "metadata": {},
     "output_type": "execute_result"
    }
   ],
   "source": [
    "c = c.to_dict()\n",
    "type(c)"
   ]
  },
  {
   "cell_type": "code",
   "execution_count": 33,
   "metadata": {
    "ExecuteTime": {
     "end_time": "2019-10-03T20:47:59.322054Z",
     "start_time": "2019-10-03T20:47:59.317221Z"
    }
   },
   "outputs": [
    {
     "data": {
      "text/plain": [
       "{'Male': 157, 'Female': 87}"
      ]
     },
     "execution_count": 33,
     "metadata": {},
     "output_type": "execute_result"
    }
   ],
   "source": [
    "c"
   ]
  },
  {
   "cell_type": "code",
   "execution_count": 37,
   "metadata": {
    "ExecuteTime": {
     "end_time": "2019-10-03T20:50:04.852893Z",
     "start_time": "2019-10-03T20:50:04.787035Z"
    }
   },
   "outputs": [
    {
     "data": {
      "image/png": "[encoded data removed]",
      "text/plain": [
       "<Figure size 432x288 with 1 Axes>"
      ]
     },
     "metadata": {},
     "output_type": "display_data"
    }
   ],
   "source": [
    "values = c.values()\n",
    "colors = ['b', 'r']\n",
    "labels = c.keys()\n",
    "explode = (0.2, 0)\n",
    "plt.pie(values, colors=colors, labels= values, explode=explode, shadow=True)\n",
    "plt.title('Pelanggan Pria dan Wanita')\n",
    "plt.legend(labels,loc='best')\n",
    "plt.show()"
   ]
  },
  {
   "cell_type": "markdown",
   "metadata": {},
   "source": [
    "## More complicated categorical visualization"
   ]
  },
  {
   "cell_type": "code",
   "execution_count": 38,
   "metadata": {
    "ExecuteTime": {
     "end_time": "2019-10-03T20:51:59.634019Z",
     "start_time": "2019-10-03T20:51:59.627039Z"
    }
   },
   "outputs": [
    {
     "name": "stdout",
     "output_type": "stream",
     "text": [
      "Index(['sex', 'smoker', 'day', 'time'], dtype='object')\n"
     ]
    }
   ],
   "source": [
    "print(tips.select_dtypes(include = ['category']).columns)"
   ]
  },
  {
   "cell_type": "code",
   "execution_count": 41,
   "metadata": {
    "ExecuteTime": {
     "end_time": "2019-10-03T20:53:06.832981Z",
     "start_time": "2019-10-03T20:53:06.613491Z"
    }
   },
   "outputs": [
    {
     "data": {
      "text/html": [
       "<div>\n",
       "<style scoped>\n",
       "    .dataframe tbody tr th:only-of-type {\n",
       "        vertical-align: middle;\n",
       "    }\n",
       "\n",
       "    .dataframe tbody tr th {\n",
       "        vertical-align: top;\n",
       "    }\n",
       "\n",
       "    .dataframe thead th {\n",
       "        text-align: right;\n",
       "    }\n",
       "</style>\n",
       "<table border=\"1\" class=\"dataframe\">\n",
       "  <thead>\n",
       "    <tr style=\"text-align: right;\">\n",
       "      <th>sex</th>\n",
       "      <th>Male</th>\n",
       "      <th>Female</th>\n",
       "    </tr>\n",
       "    <tr>\n",
       "      <th>day</th>\n",
       "      <th></th>\n",
       "      <th></th>\n",
       "    </tr>\n",
       "  </thead>\n",
       "  <tbody>\n",
       "    <tr>\n",
       "      <td>Thur</td>\n",
       "      <td>30</td>\n",
       "      <td>32</td>\n",
       "    </tr>\n",
       "    <tr>\n",
       "      <td>Fri</td>\n",
       "      <td>10</td>\n",
       "      <td>9</td>\n",
       "    </tr>\n",
       "    <tr>\n",
       "      <td>Sat</td>\n",
       "      <td>59</td>\n",
       "      <td>28</td>\n",
       "    </tr>\n",
       "    <tr>\n",
       "      <td>Sun</td>\n",
       "      <td>58</td>\n",
       "      <td>18</td>\n",
       "    </tr>\n",
       "  </tbody>\n",
       "</table>\n",
       "</div>"
      ],
      "text/plain": [
       "sex   Male  Female\n",
       "day               \n",
       "Thur    30      32\n",
       "Fri     10       9\n",
       "Sat     59      28\n",
       "Sun     58      18"
      ]
     },
     "execution_count": 41,
     "metadata": {},
     "output_type": "execute_result"
    },
    {
     "data": {
      "image/png": "[encoded data removed]",
      "text/plain": [
       "<Figure size 1152x864 with 1 Axes>"
      ]
     },
     "metadata": {
      "needs_background": "light"
     },
     "output_type": "display_data"
    }
   ],
   "source": [
    "col = 'day'\n",
    "plt.figure(figsize=(16,12))\n",
    "ax = sns.countplot(x = col, hue = 'sex', palette = 'muted', data=tips)\n",
    "# Semakin mudah fungsi visualisasi, maka semakin sulit utk di kustomisasi\n",
    "# Cara diatas sdh sulit digunakan karena struktur data di ax sdh tidak memuat data\n",
    "tips.groupby([\"day\", \"sex\"]).size().unstack() # Trick sederhana menghindari pemrograman yg overwhelming"
   ]
  },
  {
   "cell_type": "markdown",
   "metadata": {},
   "source": [
    "# Adding labels? ... Hhhmmm..."
   ]
  },
  {
   "cell_type": "code",
   "execution_count": 42,
   "metadata": {
    "ExecuteTime": {
     "end_time": "2019-10-03T20:53:34.917474Z",
     "start_time": "2019-10-03T20:53:34.908441Z"
    }
   },
   "outputs": [],
   "source": [
    "def groupedbarplot(df, width=0.8, annotate=\"values\", ax=None, **kw):\n",
    "    ax = ax or plt.gca()\n",
    "    n = len(df.columns)\n",
    "    w = 1./n\n",
    "    pos = (np.linspace(w/2., 1-w/2., n)-0.5)*width\n",
    "    w *= width\n",
    "    bars = []\n",
    "    for col, x in zip(df.columns, pos):\n",
    "        bars.append(ax.bar(np.arange(len(df))+x, df[col].values, width=w, **kw))\n",
    "        # matplotlib.pyplot.bar(x, height, width=0.8, bottom=None, *, align='center', data=None, **kwargs)\n",
    "        for val, xi in zip(df[col].values, np.arange(len(df))+x):\n",
    "            if annotate:\n",
    "                txt = val if annotate == \"values\" else col\n",
    "                ax.annotate(txt, xy=(xi, val), xytext=(0,2), \n",
    "                            textcoords=\"offset points\",\n",
    "                            ha=\"center\", va=\"bottom\")\n",
    "    ax.set_xticks(np.arange(len(df)))\n",
    "    ax.set_xticklabels(df.index)\n",
    "    return bars"
   ]
  },
  {
   "cell_type": "code",
   "execution_count": 44,
   "metadata": {
    "ExecuteTime": {
     "end_time": "2019-10-03T21:02:26.911333Z",
     "start_time": "2019-10-03T21:02:26.719777Z"
    }
   },
   "outputs": [
    {
     "data": {
      "image/png": "[encoded data removed]",
      "text/plain": [
       "<Figure size 1152x864 with 1 Axes>"
      ]
     },
     "metadata": {
      "needs_background": "light"
     },
     "output_type": "display_data"
    }
   ],
   "source": [
    "counts = tips.groupby([\"day\", \"sex\"]).size().unstack()\n",
    "plt.figure(figsize=(16,12))\n",
    "groupedbarplot(counts)\n",
    "#plt.legend(loc='best')\n",
    "plt.show()"
   ]
  },
  {
   "cell_type": "markdown",
   "metadata": {},
   "source": [
    "# Horizontal? Why?"
   ]
  },
  {
   "cell_type": "code",
   "execution_count": 45,
   "metadata": {
    "ExecuteTime": {
     "end_time": "2019-10-03T21:03:22.867952Z",
     "start_time": "2019-10-03T21:03:22.707979Z"
    }
   },
   "outputs": [
    {
     "data": {
      "image/png": "[encoded data removed]",
      "text/plain": [
       "<Figure size 432x288 with 1 Axes>"
      ]
     },
     "metadata": {
      "needs_background": "light"
     },
     "output_type": "display_data"
    }
   ],
   "source": [
    "ax = sns.countplot(y = col, hue = 'sex', palette = 'muted', data=tips)"
   ]
  },
  {
   "cell_type": "markdown",
   "metadata": {},
   "source": [
    "# Two-Way Tables (contingency tables)"
   ]
  },
  {
   "cell_type": "code",
   "execution_count": 46,
   "metadata": {
    "ExecuteTime": {
     "end_time": "2019-10-03T21:05:53.033131Z",
     "start_time": "2019-10-03T21:05:53.001687Z"
    }
   },
   "outputs": [
    {
     "data": {
      "text/html": [
       "<div>\n",
       "<style scoped>\n",
       "    .dataframe tbody tr th:only-of-type {\n",
       "        vertical-align: middle;\n",
       "    }\n",
       "\n",
       "    .dataframe tbody tr th {\n",
       "        vertical-align: top;\n",
       "    }\n",
       "\n",
       "    .dataframe thead th {\n",
       "        text-align: right;\n",
       "    }\n",
       "</style>\n",
       "<table border=\"1\" class=\"dataframe\">\n",
       "  <thead>\n",
       "    <tr style=\"text-align: right;\">\n",
       "      <th>day</th>\n",
       "      <th>Thur</th>\n",
       "      <th>Fri</th>\n",
       "      <th>Sat</th>\n",
       "      <th>Sun</th>\n",
       "    </tr>\n",
       "    <tr>\n",
       "      <th>sex</th>\n",
       "      <th></th>\n",
       "      <th></th>\n",
       "      <th></th>\n",
       "      <th></th>\n",
       "    </tr>\n",
       "  </thead>\n",
       "  <tbody>\n",
       "    <tr>\n",
       "      <td>Male</td>\n",
       "      <td>30</td>\n",
       "      <td>10</td>\n",
       "      <td>59</td>\n",
       "      <td>58</td>\n",
       "    </tr>\n",
       "    <tr>\n",
       "      <td>Female</td>\n",
       "      <td>32</td>\n",
       "      <td>9</td>\n",
       "      <td>28</td>\n",
       "      <td>18</td>\n",
       "    </tr>\n",
       "  </tbody>\n",
       "</table>\n",
       "</div>"
      ],
      "text/plain": [
       "day     Thur  Fri  Sat  Sun\n",
       "sex                        \n",
       "Male      30   10   59   58\n",
       "Female    32    9   28   18"
      ]
     },
     "execution_count": 46,
     "metadata": {},
     "output_type": "execute_result"
    }
   ],
   "source": [
    "CT = pd.crosstab(index=tips[\"sex\"], columns=tips[\"day\"])\n",
    "CT"
   ]
  },
  {
   "cell_type": "markdown",
   "metadata": {},
   "source": [
    "# Stacked/Segmented Chart"
   ]
  },
  {
   "cell_type": "code",
   "execution_count": 48,
   "metadata": {
    "ExecuteTime": {
     "end_time": "2019-10-03T21:06:45.238692Z",
     "start_time": "2019-10-03T21:06:45.038359Z"
    }
   },
   "outputs": [
    {
     "data": {
      "image/png": "[encoded data removed]",
      "text/plain": [
       "<Figure size 576x576 with 1 Axes>"
      ]
     },
     "metadata": {
      "needs_background": "light"
     },
     "output_type": "display_data"
    }
   ],
   "source": [
    "p = CT.plot(kind=\"bar\", figsize=(8,8), stacked=True)"
   ]
  },
  {
   "cell_type": "markdown",
   "metadata": {},
   "source": [
    "# Mixing Categorical and Numerical Variable in A visualization\n",
    "\n",
    "## Warning on the interpretation of the graph!!!..."
   ]
  },
  {
   "cell_type": "code",
   "execution_count": 49,
   "metadata": {
    "ExecuteTime": {
     "end_time": "2019-10-03T21:08:16.739313Z",
     "start_time": "2019-10-03T21:08:16.619572Z"
    }
   },
   "outputs": [
    {
     "data": {
      "image/png": "[encoded data removed]",
      "text/plain": [
       "<Figure size 432x288 with 1 Axes>"
      ]
     },
     "metadata": {
      "needs_background": "light"
     },
     "output_type": "display_data"
    }
   ],
   "source": [
    "p = sns.barplot(x='sex',y='total_bill',data=tips)"
   ]
  },
  {
   "cell_type": "markdown",
   "metadata": {},
   "source": [
    "# BoxPlot\n",
    "\n",
    "A box plot (or box-and-whisker plot) shows the distribution of quantitative data in a way that facilitates comparisons between variables or across levels of a categorical variable. The box shows the quartiles of the dataset while the whiskers extend to show the rest of the distribution, except for points that are determined to be “outliers” using a method that is a function of the inter-quartile range."
   ]
  },
  {
   "cell_type": "code",
   "execution_count": 60,
   "metadata": {
    "ExecuteTime": {
     "end_time": "2019-10-03T21:17:47.641166Z",
     "start_time": "2019-10-03T21:17:47.512482Z"
    }
   },
   "outputs": [
    {
     "data": {
      "image/png": "[encoded data removed]",
      "text/plain": [
       "<Figure size 432x288 with 1 Axes>"
      ]
     },
     "metadata": {
      "needs_background": "light"
     },
     "output_type": "display_data"
    }
   ],
   "source": [
    "p= sns.boxplot(x='day',y='total_bill',data=tips, palette='rainbow')"
   ]
  },
  {
   "cell_type": "markdown",
   "metadata": {},
   "source": [
    "# Interpretasi?"
   ]
  },
  {
   "cell_type": "markdown",
   "metadata": {},
   "source": [
    "# Mixing -- Swarn Plot\n",
    "\n",
    "The swarmplot  points are adjusted (only along the categorical axis) so that they don’t overlap. This gives a better representation of the distribution of values, although it does not scale as well to large numbers of observations (both in terms of the ability to show all the points and in terms of the computation needed to arrange them).\n"
   ]
  },
  {
   "cell_type": "code",
   "execution_count": 59,
   "metadata": {
    "ExecuteTime": {
     "end_time": "2019-10-03T21:17:00.580867Z",
     "start_time": "2019-10-03T21:17:00.342501Z"
    }
   },
   "outputs": [
    {
     "data": {
      "image/png": "[encoded data removed]",
      "text/plain": [
       "<Figure size 436.35x360 with 1 Axes>"
      ]
     },
     "metadata": {
      "needs_background": "light"
     },
     "output_type": "display_data"
    }
   ],
   "source": [
    "p= sns.catplot(x=\"day\", y=\"tip\", hue=\"sex\", kind=\"swarm\", data=tips)"
   ]
  },
  {
   "cell_type": "markdown",
   "metadata": {},
   "source": [
    "## Apakah ada kecenderungan hari menentukan besar tips?\n",
    "\n",
    "## Untuk mengambil kesimpulan ini hal apa yang harus di verifikasi?"
   ]
  },
  {
   "cell_type": "markdown",
   "metadata": {},
   "source": [
    "# Violin Plot\n",
    "\n",
    "A violin plot plays a similar role as a box and whisker plot. It shows the distribution of quantitative data across several levels of one (or more) categorical variables such that those distributions can be compared. Unlike a box plot, in which all of the plot components correspond to actual datapoints, the violin plot features a kernel density estimation (KDE) of the underlying distribution."
   ]
  },
  {
   "cell_type": "code",
   "execution_count": 56,
   "metadata": {
    "ExecuteTime": {
     "end_time": "2019-10-03T21:13:17.713455Z",
     "start_time": "2019-10-03T21:13:17.562854Z"
    }
   },
   "outputs": [
    {
     "data": {
      "image/png": "[encoded data removed]",
      "text/plain": [
       "<Figure size 432x288 with 1 Axes>"
      ]
     },
     "metadata": {
      "needs_background": "light"
     },
     "output_type": "display_data"
    }
   ],
   "source": [
    "p = sns.violinplot(x=\"day\", y=\"total_bill\", data=tips,palette='rainbow')"
   ]
  },
  {
   "cell_type": "markdown",
   "metadata": {},
   "source": [
    "# KDE?"
   ]
  },
  {
   "cell_type": "code",
   "execution_count": 62,
   "metadata": {
    "ExecuteTime": {
     "end_time": "2019-10-03T21:19:35.779412Z",
     "start_time": "2019-10-03T21:19:35.582713Z"
    }
   },
   "outputs": [
    {
     "data": {
      "image/png": "[encoded data removed]",
      "text/plain": [
       "<Figure size 432x288 with 1 Axes>"
      ]
     },
     "metadata": {
      "needs_background": "light"
     },
     "output_type": "display_data"
    }
   ],
   "source": [
    "p = sns.distplot(tips['total_bill'], kde=True, rug=True)"
   ]
  },
  {
   "cell_type": "markdown",
   "metadata": {},
   "source": [
    "# Mosaic Plot for multiple categorical data analysis"
   ]
  },
  {
   "cell_type": "code",
   "execution_count": 66,
   "metadata": {
    "ExecuteTime": {
     "end_time": "2019-10-03T21:26:41.652368Z",
     "start_time": "2019-10-03T21:26:41.464127Z"
    }
   },
   "outputs": [
    {
     "data": {
      "image/png": "[encoded data removed]",
      "text/plain": [
       "<Figure size 432x288 with 3 Axes>"
      ]
     },
     "metadata": {},
     "output_type": "display_data"
    }
   ],
   "source": [
    "p = mosaic(tips, ['sex','smoker','time'])"
   ]
  },
  {
   "cell_type": "markdown",
   "metadata": {},
   "source": [
    "# Transforming categorical Variables for Further Analysis (Advanced Models)\n",
    "\n",
    "\n",
    "* Cara: https://github.com/curious-attempt-bunny/ml-info/blob/master/How%20to%20handle%20categorical%20data%20in%20scikit%20with%20pandas.ipynb \n",
    "\n",
    "* More advanced encoding & Analisis Performa: http://www.willmcginnis.com/2015/11/29/beyond-one-hot-an-exploration-of-categorical-variables/?fbclid=IwAR0CGh0Ibibd7NWlpY7I-dDV3e4yo435azbumgEe9VKcYhdCJZ9GWsE39r8"
   ]
  },
  {
   "cell_type": "markdown",
   "metadata": {},
   "source": [
    "# Further reading:\n",
    "\n",
    "https://www.tandfonline.com/doi/pdf/10.1080/10447310701702519"
   ]
  },
  {
   "cell_type": "markdown",
   "metadata": {},
   "source": [
    "<h1>End of \"Exploring Categorical Data\" Module</h1>\n",
    "\n",
    "<hr />"
   ]
  }
 ],
 "metadata": {
  "celltoolbar": "Slideshow",
  "kernelspec": {
   "display_name": "Python 3",
   "language": "python",
   "name": "python3"
  },
  "language_info": {
   "codemirror_mode": {
    "name": "ipython",
    "version": 3
   },
   "file_extension": ".py",
   "mimetype": "text/x-python",
   "name": "python",
   "nbconvert_exporter": "python",
   "pygments_lexer": "ipython3",
   "version": "3.6.8"
  },
  "latex_envs": {
   "LaTeX_envs_menu_present": true,
   "autoclose": false,
   "autocomplete": true,
   "bibliofile": "biblio.bib",
   "cite_by": "apalike",
   "current_citInitial": 1,
   "eqLabelWithNumbers": true,
   "eqNumInitial": 1,
   "hotkeys": {
    "equation": "Ctrl-E",
    "itemize": "Ctrl-I"
   },
   "labels_anchors": false,
   "latex_user_defs": false,
   "report_style_numbering": false,
   "user_envs_cfg": false
  }
 },
 "nbformat": 4,
 "nbformat_minor": 2
}
